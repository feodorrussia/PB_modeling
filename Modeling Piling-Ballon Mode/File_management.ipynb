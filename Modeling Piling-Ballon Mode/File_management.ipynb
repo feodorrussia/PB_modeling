{
 "cells": [
  {
   "cell_type": "code",
   "execution_count": 1,
   "id": "10b9757c-e0c4-48ff-a412-109996d19ec8",
   "metadata": {},
   "outputs": [],
   "source": [
    "import pandas as pd\n",
    "import numpy as np\n",
    "import os"
   ]
  },
  {
   "cell_type": "code",
   "execution_count": 2,
   "id": "3858bd20-19a6-4a0d-887b-b4f0916ff1f4",
   "metadata": {},
   "outputs": [
    {
     "data": {
      "text/plain": [
       "['test_set.csv',\n",
       " 'train_1.csv',\n",
       " 'train_1_aug.csv',\n",
       " 'train_2.csv',\n",
       " 'train_2_aug.csv',\n",
       " 'train_3.csv',\n",
       " 'train_3_aug.csv',\n",
       " 'train_set.csv']"
      ]
     },
     "execution_count": 2,
     "metadata": {},
     "output_type": "execute_result"
    }
   ],
   "source": [
    "data_dir = \"data/train/\"\n",
    "list_df_files = list(filter(lambda x: \".csv\" in x, os.listdir(data_dir)))\n",
    "list_df_files"
   ]
  },
  {
   "cell_type": "code",
   "execution_count": 4,
   "id": "f60a3fc4-1b3d-4982-9cb7-d11fc1cf6e9c",
   "metadata": {},
   "outputs": [],
   "source": [
    "# MANUAL SELLECTION\n",
    "train_files = ['train_1.csv', 'train_3.csv']\n",
    "test_files = ['train_2.csv']"
   ]
  },
  {
   "cell_type": "code",
   "execution_count": 5,
   "id": "7199d1be-ad7f-427d-b94e-1a4744a79db4",
   "metadata": {},
   "outputs": [],
   "source": [
    "def print_info(df, name=\"default\"):\n",
    "    true_marks = np.count_nonzero(df.mark.to_numpy() == 1)\n",
    "    false_marks = np.count_nonzero(df.mark.to_numpy() == 0)\n",
    "    print(f\"{name}: \", \"total : \", df.shape[0], f\"-- 1: {true_marks} - {true_marks/df.shape[0]*100:.2f}%\", f\"-- 0: {false_marks} - {false_marks/df.shape[0]*100:.2f}%\")\n",
    "    print(\"-----\")\n",
    "\n",
    "def collect_df(list_filenames, dir):\n",
    "    total_df = pd.read_csv(dir + list_filenames[0])\n",
    "    \n",
    "    # print_info(total_df, name=list_filenames[0])\n",
    "\n",
    "    for file_i_name in list_filenames[1:]:\n",
    "        df = pd.read_csv(dir + file_i_name)\n",
    "        total_df = pd.concat([total_df, df], ignore_index=True)\n",
    "        \n",
    "        # print_info(total_df, name=file_i_name)\n",
    "        \n",
    "    print_info(total_df, name=\"Total\")\n",
    "    \n",
    "    return total_df"
   ]
  },
  {
   "cell_type": "code",
   "execution_count": 6,
   "id": "029e828c-e357-49f6-8fdb-bbc09fa60d65",
   "metadata": {},
   "outputs": [
    {
     "name": "stdout",
     "output_type": "stream",
     "text": [
      "Total:  total :  800 -- 1: 139 - 17.38% -- 0: 661 - 82.62%\n",
      "-----\n",
      "Total:  total :  400 -- 1: 136 - 34.00% -- 0: 264 - 66.00%\n",
      "-----\n",
      "Part of the test dataset: 33.33%\n"
     ]
    }
   ],
   "source": [
    "train_df = collect_df(train_files, data_dir)\n",
    "test_df = collect_df(test_files, data_dir)\n",
    "\n",
    "print(f\"Part of the test dataset: {test_df.shape[0] / (train_df.shape[0] + test_df.shape[0]) * 100:.2f}%\")"
   ]
  },
  {
   "cell_type": "code",
   "execution_count": 8,
   "id": "aa82fb2f-e1ce-4c9a-9033-4b4b0d6adc5a",
   "metadata": {},
   "outputs": [
    {
     "name": "stdout",
     "output_type": "stream",
     "text": [
      "Total volume: 1200\n"
     ]
    }
   ],
   "source": [
    "index = \"wo_aug\"\n",
    "train_df.to_csv(f\"../Predict Peeling-Ballooning Mode/data/train_{index}_set.csv\", index=False)  # data_dir + \"train_set.csv\"\n",
    "test_df.to_csv(f\"../Predict Peeling-Ballooning Mode/data/test_{index}_set.csv\", index=False)  # data_dir + \"test_set.csv\"\n",
    "\n",
    "print(f\"Total volume: {train_df.shape[0] + test_df.shape[0]}\")"
   ]
  },
  {
   "cell_type": "code",
   "execution_count": null,
   "id": "47fd5551-9444-4200-a2da-beba22ee4ff2",
   "metadata": {},
   "outputs": [],
   "source": []
  }
 ],
 "metadata": {
  "kernelspec": {
   "display_name": "Python 3 (ipykernel)",
   "language": "python",
   "name": "python3"
  },
  "language_info": {
   "codemirror_mode": {
    "name": "ipython",
    "version": 3
   },
   "file_extension": ".py",
   "mimetype": "text/x-python",
   "name": "python",
   "nbconvert_exporter": "python",
   "pygments_lexer": "ipython3",
   "version": "3.11.7"
  }
 },
 "nbformat": 4,
 "nbformat_minor": 5
}
