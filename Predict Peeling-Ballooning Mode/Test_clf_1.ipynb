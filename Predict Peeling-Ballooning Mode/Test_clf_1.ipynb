{
 "cells": [
  {
   "cell_type": "code",
   "execution_count": 1,
   "id": "1b39723d-213d-462a-8455-137b805651fc",
   "metadata": {},
   "outputs": [],
   "source": [
    "import numpy as np\n",
    "import pandas as pd\n",
    "\n",
    "from matplotlib import pyplot as plt\n",
    "from matplotlib.ticker import AutoMinorLocator"
   ]
  },
  {
   "cell_type": "code",
   "execution_count": 2,
   "id": "ebd60195-0219-4130-8592-8af2763c1785",
   "metadata": {},
   "outputs": [
    {
     "data": {
      "text/html": [
       "<div>\n",
       "<style scoped>\n",
       "    .dataframe tbody tr th:only-of-type {\n",
       "        vertical-align: middle;\n",
       "    }\n",
       "\n",
       "    .dataframe tbody tr th {\n",
       "        vertical-align: top;\n",
       "    }\n",
       "\n",
       "    .dataframe thead th {\n",
       "        text-align: right;\n",
       "    }\n",
       "</style>\n",
       "<table border=\"1\" class=\"dataframe\">\n",
       "  <thead>\n",
       "    <tr style=\"text-align: right;\">\n",
       "      <th></th>\n",
       "      <th>A</th>\n",
       "      <th>P</th>\n",
       "      <th>sigma</th>\n",
       "      <th>kappa</th>\n",
       "      <th>I_kA</th>\n",
       "      <th>B_T</th>\n",
       "      <th>mark</th>\n",
       "    </tr>\n",
       "  </thead>\n",
       "  <tbody>\n",
       "    <tr>\n",
       "      <th>0</th>\n",
       "      <td>0.01</td>\n",
       "      <td>0.10000</td>\n",
       "      <td>0.18</td>\n",
       "      <td>1.95</td>\n",
       "      <td>300.0</td>\n",
       "      <td>0.7</td>\n",
       "      <td>0</td>\n",
       "    </tr>\n",
       "    <tr>\n",
       "      <th>1</th>\n",
       "      <td>0.01</td>\n",
       "      <td>0.18947</td>\n",
       "      <td>0.18</td>\n",
       "      <td>1.95</td>\n",
       "      <td>300.0</td>\n",
       "      <td>0.7</td>\n",
       "      <td>0</td>\n",
       "    </tr>\n",
       "    <tr>\n",
       "      <th>2</th>\n",
       "      <td>0.01</td>\n",
       "      <td>0.27895</td>\n",
       "      <td>0.18</td>\n",
       "      <td>1.95</td>\n",
       "      <td>300.0</td>\n",
       "      <td>0.7</td>\n",
       "      <td>0</td>\n",
       "    </tr>\n",
       "    <tr>\n",
       "      <th>3</th>\n",
       "      <td>0.01</td>\n",
       "      <td>0.36842</td>\n",
       "      <td>0.18</td>\n",
       "      <td>1.95</td>\n",
       "      <td>300.0</td>\n",
       "      <td>0.7</td>\n",
       "      <td>0</td>\n",
       "    </tr>\n",
       "    <tr>\n",
       "      <th>4</th>\n",
       "      <td>0.01</td>\n",
       "      <td>0.45789</td>\n",
       "      <td>0.18</td>\n",
       "      <td>1.95</td>\n",
       "      <td>300.0</td>\n",
       "      <td>0.7</td>\n",
       "      <td>0</td>\n",
       "    </tr>\n",
       "  </tbody>\n",
       "</table>\n",
       "</div>"
      ],
      "text/plain": [
       "      A        P  sigma  kappa   I_kA  B_T  mark\n",
       "0  0.01  0.10000   0.18   1.95  300.0  0.7     0\n",
       "1  0.01  0.18947   0.18   1.95  300.0  0.7     0\n",
       "2  0.01  0.27895   0.18   1.95  300.0  0.7     0\n",
       "3  0.01  0.36842   0.18   1.95  300.0  0.7     0\n",
       "4  0.01  0.45789   0.18   1.95  300.0  0.7     0"
      ]
     },
     "execution_count": 2,
     "metadata": {},
     "output_type": "execute_result"
    }
   ],
   "source": [
    "train_data = pd.read_csv(\"data/train_set.csv\")\n",
    "test_data = pd.read_csv(\"data/test_set.csv\")\n",
    "train_data.head()"
   ]
  },
  {
   "cell_type": "code",
   "execution_count": 3,
   "id": "92d450e3-5858-4bb4-bd61-19a40aaee3a5",
   "metadata": {},
   "outputs": [
    {
     "name": "stdout",
     "output_type": "stream",
     "text": [
      "(1725, 6) (875, 6) (1725,) (875,)\n"
     ]
    }
   ],
   "source": [
    "from sklearn.model_selection import train_test_split\n",
    "\n",
    "X_train, X_test, y_train, y_test = train_data.drop([\"mark\"], axis=1).to_numpy(), test_data.drop([\"mark\"], axis=1).to_numpy(), train_data[\"mark\"].to_numpy(), test_data[\"mark\"].to_numpy()\n",
    "print(X_train.shape, X_test.shape, y_train.shape, y_test.shape)"
   ]
  },
  {
   "cell_type": "code",
   "execution_count": 4,
   "id": "06c94be6-8975-402c-a873-bbfba6863351",
   "metadata": {},
   "outputs": [],
   "source": [
    "from sklearn.ensemble import RandomForestClassifier\n",
    "from sklearn.svm import SVC\n",
    "\n",
    "from sklearn.metrics import roc_auc_score\n",
    "from sklearn.model_selection import train_test_split, GridSearchCV\n",
    "from sklearn.preprocessing import LabelEncoder\n",
    "from sklearn.pipeline import make_pipeline\n",
    "from sklearn.preprocessing import StandardScaler\n",
    "\n",
    "import time"
   ]
  },
  {
   "cell_type": "code",
   "execution_count": 89,
   "id": "79ff854c-25db-4f49-8d55-0efdb2e5c69f",
   "metadata": {},
   "outputs": [
    {
     "name": "stdout",
     "output_type": "stream",
     "text": [
      "Fitting RFC...\n",
      "Fitting takes: 0.408 s\n",
      "ROC AUC Score: 0.9939713515999737\n"
     ]
    }
   ],
   "source": [
    "param_grid = {\n",
    "    'n_estimators': [100, 200, 300],\n",
    "    'max_depth': [5, 10, 15],\n",
    "    'min_samples_split': [2, 5, 10],\n",
    "    'min_samples_leaf': [1, 2, 4]\n",
    "}\n",
    "\n",
    "clf_rf = RandomForestClassifier(max_depth=10, min_samples_leaf=4, min_samples_split=10, \n",
    "                                n_estimators=200, random_state=42)\n",
    "# grid_search = GridSearchCV(clf_rf, param_grid, cv=5, scoring='roc_auc')\n",
    "\n",
    "print(\"Fitting RFC...\")\n",
    "start_tic = time.time()\n",
    "clf_rf.fit(X_train_, y_train_)\n",
    "print(f\"Fitting takes: {(time.time() - start_tic):.3f} s\")\n",
    "\n",
    "# Get the best classifier from the grid search\n",
    "# best_clf_rf = grid_search.best_estimator_\n",
    "\n",
    "# Make predictions\n",
    "y_pred_proba = clf_rf.predict_proba(X_test_)[:, 1]\n",
    "\n",
    "# Calculate ROC AUC score\n",
    "roc_auc = roc_auc_score(y_test_, y_pred_proba)\n",
    "print(\"ROC AUC Score:\", roc_auc)"
   ]
  },
  {
   "cell_type": "code",
   "execution_count": 10,
   "id": "42dc8dbb-448a-4b39-bff6-32f8f9f71f67",
   "metadata": {},
   "outputs": [
    {
     "data": {
      "text/plain": [
       "{'max_depth': 10,\n",
       " 'min_samples_leaf': 4,\n",
       " 'min_samples_split': 10,\n",
       " 'n_estimators': 200}"
      ]
     },
     "execution_count": 10,
     "metadata": {},
     "output_type": "execute_result"
    }
   ],
   "source": [
    "# grid_search.best_params_\n",
    "\n",
    "# {'max_depth': 10,\n",
    "#  'min_samples_leaf': 4,\n",
    "#  'min_samples_split': 10,\n",
    "#  'n_estimators': 200}"
   ]
  },
  {
   "cell_type": "code",
   "execution_count": 5,
   "id": "a2400b39-11a0-4385-9075-7ff4db21c192",
   "metadata": {},
   "outputs": [],
   "source": [
    "clf_linear = make_pipeline(StandardScaler(), SVC(kernel=\"linear\", probability=True, random_state=42))\n",
    "clf_rbf = make_pipeline(StandardScaler(), SVC(gamma='auto', probability=True, random_state=42))\n",
    "clf_poly = make_pipeline(StandardScaler(), SVC(kernel=\"poly\", probability=True, random_state=42))"
   ]
  },
  {
   "cell_type": "code",
   "execution_count": 86,
   "id": "9e94af09-d53b-4e88-9938-f88be65a0eb8",
   "metadata": {},
   "outputs": [
    {
     "name": "stdout",
     "output_type": "stream",
     "text": [
      "Fitting RBF SVM...\n",
      "Fitting takes: 0.597 s\n",
      "Pedicting...\n",
      "ROC AUC Score: 0.9033362901636113\n",
      "-----\n"
     ]
    }
   ],
   "source": [
    "print(\"Fitting RBF SVM...\")\n",
    "start_tic = time.time()\n",
    "clf_rbf.fit(X_train_, y_train_)\n",
    "print(f\"Fitting takes: {(time.time() - start_tic):.3f} s\")\n",
    "\n",
    "print(\"Pedicting...\")\n",
    "y_pred_proba = clf_rbf.predict_proba(X_test_)[:, 1]\n",
    "\n",
    "roc_auc = roc_auc_score(y_test_, y_pred_proba)\n",
    "print(\"ROC AUC Score:\", roc_auc)\n",
    "print(\"-----\")\n",
    "\n",
    "# print(\"Fitting Poly SVM...\")\n",
    "# start_tic = time.time()\n",
    "# clf_poly.fit(X_train, y_train)\n",
    "# print(f\"Fitting takes: {(time.time() - start_tic):.3f} s\")\n",
    "\n",
    "# print(\"Pedicting...\")\n",
    "# y_pred_proba = clf_poly.predict_proba(X_test)[:, 1]\n",
    "\n",
    "# roc_auc = roc_auc_score(y_test, y_pred_proba)\n",
    "# print(\"ROC AUC Score:\", roc_auc)\n",
    "# print(\"-----\")\n",
    "\n",
    "# print(\"Fitting Linear SVM...\")\n",
    "# start_tic = time.time()\n",
    "# clf_linear.fit(X_train, y_train)\n",
    "# print(f\"Fitting takes: {(time.time() - start_tic):.3f} s\")\n",
    "\n",
    "# print(\"Pedicting...\")\n",
    "# y_pred_proba = clf_linear.predict_proba(X_test)[:, 1]\n",
    "\n",
    "# roc_auc = roc_auc_score(y_test, y_pred_proba)\n",
    "# print(\"ROC AUC Score:\", roc_auc)\n",
    "# print(\"-----\")\n",
    "\n",
    "display = RocCurveDisplay.from_predictions(\n",
    "    y_test_,\n",
    "    y_pred_proba,\n",
    "    color=\"darkorange\")\n",
    "\n",
    "_ = display.ax_.set(\n",
    "    xlabel=\"False Positive Rate\",\n",
    "    ylabel=\"True Positive Rate\",\n",
    "    title=\"ROC curve:\",\n",
    ")"
   ]
  },
  {
   "cell_type": "code",
   "execution_count": 83,
   "id": "8c0ca5d0-49e9-4788-9686-2a1f7fdff9db",
   "metadata": {},
   "outputs": [
    {
     "name": "stdout",
     "output_type": "stream",
     "text": [
      "Fitting MLP Classifier...\n",
      "Fitting takes: 3.935 s\n",
      "Pedicting...\n",
      "ROC AUC Score: 0.9931992903607333\n",
      "-----\n"
     ]
    }
   ],
   "source": [
    "from sklearn.neural_network import MLPClassifier\n",
    "from sklearn.metrics import RocCurveDisplay\n",
    "\n",
    "clf_mlp = make_pipeline(StandardScaler(), \n",
    "                        MLPClassifier(hidden_layer_sizes=(256, 64), max_iter=1000, random_state=42))\n",
    "# , early_stopping=True\n",
    "\n",
    "X, y = np.concatenate([X_train, X_test]), np.concatenate([y_train, y_test])\n",
    "\n",
    "X_train_, X_test_, y_train_, y_test_ = train_test_split(X, y, test_size=0.2, random_state=42)\n",
    "\n",
    "print(\"Fitting MLP Classifier...\")\n",
    "start_tic = time.time()\n",
    "clf_mlp.fit(X_train_, y_train_)\n",
    "print(f\"Fitting takes: {(time.time() - start_tic):.3f} s\")\n",
    "\n",
    "print(\"Pedicting...\")\n",
    "y_pred_proba = clf_mlp.predict_proba(X_test_)[:, 1]\n",
    "\n",
    "roc_auc = roc_auc_score(y_test_, y_pred_proba)\n",
    "print(\"ROC AUC Score:\", roc_auc)\n",
    "print(\"-----\")"
   ]
  },
  {
   "cell_type": "code",
   "execution_count": 87,
   "id": "437e2405-0e0c-49b1-ad08-0f70d5c7b1b2",
   "metadata": {},
   "outputs": [
    {
     "data": {
      "image/png": "[encoded data removed]",
      "text/plain": [
       "<Figure size 640x480 with 1 Axes>"
      ]
     },
     "metadata": {},
     "output_type": "display_data"
    }
   ],
   "source": [
    "display = RocCurveDisplay.from_predictions(\n",
    "    y_test_,\n",
    "    y_pred_proba,\n",
    "    color=\"darkorange\")\n",
    "\n",
    "_ = display.ax_.set(\n",
    "    xlabel=\"False Positive Rate\",\n",
    "    ylabel=\"True Positive Rate\",\n",
    "    title=\"ROC curve:\",\n",
    ")"
   ]
  },
  {
   "cell_type": "markdown",
   "id": "4806cd70-ea2a-4dab-b183-95286bd11e7c",
   "metadata": {},
   "source": [
    "---"
   ]
  },
  {
   "cell_type": "code",
   "execution_count": 85,
   "id": "31d1a71f-4335-4184-89e1-30e73bba2f76",
   "metadata": {},
   "outputs": [
    {
     "data": {
      "text/plain": [
       "['../Modeling Piling-Ballon Mode/models/MLP_classifier_3.joblib']"
      ]
     },
     "execution_count": 85,
     "metadata": {},
     "output_type": "execute_result"
    }
   ],
   "source": [
    "from joblib import dump\n",
    "\n",
    "index = 3\n",
    "dump(clf_mlp, f'../Modeling Piling-Ballon Mode/models/MLP_classifier_{index}.joblib')"
   ]
  },
  {
   "cell_type": "code",
   "execution_count": 90,
   "id": "a871c3fc-a3d4-4523-b699-208d1713bd73",
   "metadata": {},
   "outputs": [
    {
     "data": {
      "text/plain": [
       "['models/RF_classifier_2.joblib']"
      ]
     },
     "execution_count": 90,
     "metadata": {},
     "output_type": "execute_result"
    }
   ],
   "source": [
    "from joblib import dump\n",
    "\n",
    "dump(clf_rf, 'models/RF_classifier_2.joblib')\n",
    "# dump(clf_rbf, 'models/RBF-SVM_classifier_2.joblib')\n",
    "# dump(clf_poly, 'models/Poly-SVM_classifier.joblib')\n",
    "# dump(clf_linear, 'models/Linear-SVM_classifier.joblib')"
   ]
  },
  {
   "cell_type": "code",
   "execution_count": null,
   "id": "c87f24f0-bb88-46c5-84b0-c1c78e688ec6",
   "metadata": {},
   "outputs": [],
   "source": []
  }
 ],
 "metadata": {
  "kernelspec": {
   "display_name": "Python 3 (ipykernel)",
   "language": "python",
   "name": "python3"
  },
  "language_info": {
   "codemirror_mode": {
    "name": "ipython",
    "version": 3
   },
   "file_extension": ".py",
   "mimetype": "text/x-python",
   "name": "python",
   "nbconvert_exporter": "python",
   "pygments_lexer": "ipython3",
   "version": "3.11.7"
  }
 },
 "nbformat": 4,
 "nbformat_minor": 5
}
